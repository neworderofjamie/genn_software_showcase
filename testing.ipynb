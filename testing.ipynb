{
 "cells": [
  {
   "cell_type": "code",
   "execution_count": 1,
   "metadata": {},
   "outputs": [],
   "source": [
    "import numpy as np\n",
    "from copy import copy\n",
    "from six import iteritems\n",
    "from matplotlib import pyplot as plt\n",
    "from pygenn import genn_model, genn_wrapper"
   ]
  },
  {
   "cell_type": "code",
   "execution_count": 2,
   "metadata": {},
   "outputs": [],
   "source": [
    "# Load MNIST data (pre-normalized and coverted to numpy format)\n",
    "testing_images = np.load(\"testing_images.npy\")\n",
    "testing_labels = np.load(\"testing_labels.npy\")"
   ]
  },
  {
   "cell_type": "markdown",
   "metadata": {},
   "source": [
    "### Visualize training data"
   ]
  },
  {
   "cell_type": "code",
   "execution_count": 3,
   "metadata": {
    "scrolled": true
   },
   "outputs": [
    {
     "name": "stdout",
     "output_type": "stream",
     "text": [
      "(10000, 784)\n"
     ]
    },
    {
     "data": {
      "text/plain": [
       "<matplotlib.image.AxesImage at 0x7fe534d93828>"
      ]
     },
     "execution_count": 3,
     "metadata": {},
     "output_type": "execute_result"
    },
    {
     "data": {
      "image/png": "[encoded data removed]",
      "text/plain": [
       "<Figure size 432x288 with 1 Axes>"
      ]
     },
     "metadata": {
      "needs_background": "light"
     },
     "output_type": "display_data"
    }
   ],
   "source": [
    "print(testing_images.shape)\n",
    "assert np.allclose(np.sum(testing_images, axis=1), 1.0)\n",
    "\n",
    "fig, axis = plt.subplots()\n",
    "axis.imshow(np.reshape(testing_images[0], (28, 28)))"
   ]
  },
  {
   "cell_type": "markdown",
   "metadata": {},
   "source": [
    "### Parameters"
   ]
  },
  {
   "cell_type": "code",
   "execution_count": 4,
   "metadata": {},
   "outputs": [],
   "source": [
    "DT = 0.1\n",
    "INPUT_SCALE = 80.0\n",
    "NUM_PN = 784\n",
    "NUM_MBON = 10\n",
    "NUM_KC = 20000\n",
    "PRESENT_TIME_MS = 20.0\n",
    "\n",
    "# Standard LIF neurons parameters\n",
    "LIF_PARAMS = {\n",
    "    \"C\": 0.2,\n",
    "    \"TauM\": 20.0,\n",
    "    \"Vrest\": -60.0,\n",
    "    \"Vreset\": -60.0,\n",
    "    \"Vthresh\": -50.0,\n",
    "    \"Ioffset\": 0.0,\n",
    "    \"TauRefrac\": 2.0}\n",
    "\n",
    "# We only want PNs to spike once\n",
    "PN_PARAMS = copy(LIF_PARAMS)\n",
    "PN_PARAMS[\"TauRefrac\"] = 100.0\n",
    "\n",
    "# We will use weights of 1.0 for KC->GGN connections and  \n",
    "# want the GGN to inhibit the KCs after 200 spikes\n",
    "GGN_PARAMS = {\n",
    "    \"Vthresh\": 200.0}\n",
    "\n",
    "PN_KC_WEIGHT = 0.2\n",
    "PN_KC_TAU_SYN = 3.0\n",
    "PN_KC_FAN_IN = 20\n",
    "\n",
    "KC_MBON_TAU_SYN = 3.0"
   ]
  },
  {
   "cell_type": "markdown",
   "metadata": {},
   "source": [
    "### Custom models"
   ]
  },
  {
   "cell_type": "code",
   "execution_count": 5,
   "metadata": {},
   "outputs": [],
   "source": [
    "# Current source model, allowing current to be injected into neuron from variable\n",
    "cs_model = genn_model.create_custom_current_source_class(\n",
    "    \"cs_model\",\n",
    "    var_name_types=[(\"magnitude\", \"scalar\")],\n",
    "    injection_code=\"$(injectCurrent, $(magnitude));\")\n",
    "\n",
    "# Minimal integrate and fire neuron model\n",
    "if_model = genn_model.create_custom_neuron_class(\n",
    "    \"IF\",\n",
    "    param_names=[\"Vthresh\"],\n",
    "    var_name_types=[(\"V\", \"scalar\")],\n",
    "    sim_code=\n",
    "    \"\"\"\n",
    "    $(V)+= $(Isyn);\n",
    "    \"\"\",\n",
    "    threshold_condition_code=\n",
    "    \"\"\"\n",
    "    $(V) >= $(Vthresh)\n",
    "    \"\"\",\n",
    "    reset_code=\n",
    "    \"\"\"\n",
    "    $(V)= 0.0;\n",
    "    \"\"\")"
   ]
  },
  {
   "cell_type": "markdown",
   "metadata": {},
   "source": [
    "### Model definition"
   ]
  },
  {
   "cell_type": "code",
   "execution_count": 6,
   "metadata": {},
   "outputs": [],
   "source": [
    "# Create model\n",
    "model = genn_model.GeNNModel(\"float\", \"mnist_mb_testing\")\n",
    "model.dT = DT\n",
    "model._model.set_seed(1337)\n",
    "\n",
    "# Create neuron populations\n",
    "lif_init = {\"V\": PN_PARAMS[\"Vreset\"], \"RefracTime\": 0.0}\n",
    "if_init = {\"V\": 0.0}\n",
    "pn = model.add_neuron_population(\"pn\", NUM_PN, \"LIF\", PN_PARAMS, lif_init)\n",
    "kc = model.add_neuron_population(\"kc\", NUM_KC, \"LIF\", LIF_PARAMS, lif_init)\n",
    "ggn = model.add_neuron_population(\"ggn\", 1, if_model, GGN_PARAMS, if_init)\n",
    "mbon = model.add_neuron_population(\"mbon\", NUM_MBON, \"LIF\", LIF_PARAMS, lif_init)\n",
    "\n",
    "# Turn on spike recording\n",
    "pn.spike_recording_enabled = True\n",
    "kc.spike_recording_enabled = True\n",
    "mbon.spike_recording_enabled = True\n",
    "\n",
    "# Create current sources to deliver input and supervision to network\n",
    "pn_input = model.add_current_source(\"pn_input\", cs_model, pn , {}, {\"magnitude\": 0.0})\n",
    "mbon_input = model.add_current_source(\"mbon_input\", cs_model, mbon , {}, {\"magnitude\": 0.0})\n",
    "\n",
    "# Create synapse populations\n",
    "pn_kc = model.add_synapse_population(\"pn_kc\", \"SPARSE_GLOBALG\", genn_wrapper.NO_DELAY,\n",
    "                                     pn, kc,\n",
    "                                     \"StaticPulse\", {}, {\"g\": PN_KC_WEIGHT}, {}, {},\n",
    "                                     \"ExpCurr\", {\"tau\": PN_KC_TAU_SYN}, {},\n",
    "                                     genn_model.init_connectivity(\"FixedNumberPreWithReplacement\", {\"colLength\": PN_KC_FAN_IN}))\n",
    "\n",
    "kc_ggn = model.add_synapse_population(\"kc_ggn\", \"DENSE_GLOBALG\", genn_wrapper.NO_DELAY, \n",
    "                                      kc, ggn, \n",
    "                                      \"StaticPulse\", {}, {\"g\": 1.0}, {}, {}, \n",
    "                                      \"DeltaCurr\", {}, {})\n",
    "\n",
    "ggn_kc = model.add_synapse_population(\"ggn_kc\", \"DENSE_GLOBALG\", genn_wrapper.NO_DELAY, \n",
    "                                      ggn, kc,\n",
    "                                      \"StaticPulse\", {}, {\"g\": -5.0}, {}, {}, \n",
    "                                      \"ExpCurr\", {\"tau\": 5.0}, {})\n",
    "\n",
    "kc_mbon = model.add_synapse_population(\"kc_mbon\", \"DENSE_INDIVIDUALG\", genn_wrapper.NO_DELAY,\n",
    "                                       kc, mbon,\n",
    "                                       \"StaticPulse\", {}, {\"g\": np.load(\"kc_mbon.npy\")}, {}, {},\n",
    "                                       \"ExpCurr\", {\"tau\": KC_MBON_TAU_SYN}, {})"
   ]
  },
  {
   "cell_type": "markdown",
   "metadata": {},
   "source": [
    "### Build model"
   ]
  },
  {
   "cell_type": "code",
   "execution_count": 7,
   "metadata": {},
   "outputs": [],
   "source": [
    "# Convert present time into timesteps\n",
    "present_timesteps = int(round(PRESENT_TIME_MS / DT))\n",
    "\n",
    "# Build model and load it\n",
    "model.build()\n",
    "model.load(num_recording_timesteps=present_timesteps)"
   ]
  },
  {
   "cell_type": "markdown",
   "metadata": {},
   "source": [
    "### Simulation"
   ]
  },
  {
   "cell_type": "code",
   "execution_count": 8,
   "metadata": {},
   "outputs": [
    {
     "data": {
      "image/png": "[encoded data removed]",
      "text/plain": [
       "<Figure size 432x288 with 3 Axes>"
      ]
     },
     "metadata": {
      "needs_background": "light"
     },
     "output_type": "display_data"
    },
    {
     "data": {
      "image/png": "[encoded data removed]",
      "text/plain": [
       "<Figure size 432x288 with 3 Axes>"
      ]
     },
     "metadata": {
      "needs_background": "light"
     },
     "output_type": "display_data"
    },
    {
     "data": {
      "image/png": "[encoded data removed]",
      "text/plain": [
       "<Figure size 432x288 with 3 Axes>"
      ]
     },
     "metadata": {
      "needs_background": "light"
     },
     "output_type": "display_data"
    },
    {
     "data": {
      "image/png": "[encoded data removed]",
      "text/plain": [
       "<Figure size 432x288 with 3 Axes>"
      ]
     },
     "metadata": {
      "needs_background": "light"
     },
     "output_type": "display_data"
    }
   ],
   "source": [
    "def reset_neuron(pop, var_init):\n",
    "    # Reset variables\n",
    "    for var_name, var_val in iteritems(var_init):\n",
    "        pop.vars[var_name].view[:] = var_val\n",
    "    \n",
    "    # Push the state to GPU\n",
    "    pop.push_state_to_device()\n",
    "\n",
    "def reset_in_syn(pop):\n",
    "    pop.in_syn[:] = 0.0\n",
    "    pop.push_in_syn_to_device()\n",
    "\n",
    "for s in range(4):\n",
    "    # Set training image\n",
    "    pn_input.vars[\"magnitude\"].view[:] = testing_images[s] * INPUT_SCALE\n",
    "    pn_input.push_var_to_device(\"magnitude\")\n",
    "    \n",
    "    # Simulate present timesteps\n",
    "    for i in range(present_timesteps):\n",
    "        model.step_time()\n",
    "    \n",
    "    # Reset neuron state for next stimuli\n",
    "    reset_neuron(pn, lif_init)\n",
    "    reset_neuron(kc, lif_init)\n",
    "    reset_neuron(ggn, if_init)\n",
    "    reset_neuron(mbon, lif_init)\n",
    "\n",
    "    # Reset synapse state\n",
    "    reset_in_syn(pn_kc)\n",
    "    reset_in_syn(ggn_kc)\n",
    "    \n",
    "    # Download spikes from GPU\n",
    "    model.pull_recording_buffers_from_device();\n",
    "    \n",
    "    # Plot PN, KC and MBON spikes\n",
    "    fig, axes = plt.subplots(3, sharex=True)\n",
    "    pn_spike_times, pn_spike_ids = pn.spike_recording_data\n",
    "    kc_spike_times, kc_spike_ids = kc.spike_recording_data\n",
    "    mbon_spike_times, mbon_spike_ids = mbon.spike_recording_data\n",
    "    \n",
    "    \n",
    "    axes[0].scatter(pn_spike_times, pn_spike_ids, s=1)\n",
    "    axes[0].set_ylabel(\"PN\")\n",
    "    axes[1].scatter(kc_spike_times, kc_spike_ids, s=1)\n",
    "    axes[1].set_ylabel(\"KC\")\n",
    "    axes[2].scatter(mbon_spike_times, mbon_spike_ids, s=2)\n",
    "    axes[2].axhline(testing_labels[s], linestyle=\"--\", color=\"green\", alpha=0.3)\n",
    "    axes[2].set_ylim((-0.5, 10.5))\n",
    "    \n",
    "    if len(mbon_spike_times) > 0:\n",
    "        classification = mbon_spike_ids[np.argmin(mbon_spike_times)]\n",
    "        axes[2].axhline(classification, linestyle=\"--\", color=\"red\", alpha=0.3)\n",
    "    axes[2].set_ylabel(\"MBON\")\n",
    "    \n",
    "    axes[2].set_xlabel(\"Time [ms]\")\n",
    "    \n",
    "    "
   ]
  },
  {
   "cell_type": "markdown",
   "metadata": {},
   "source": [
    "### Evaluation"
   ]
  },
  {
   "cell_type": "code",
   "execution_count": 9,
   "metadata": {},
   "outputs": [
    {
     "name": "stdout",
     "output_type": "stream",
     "text": [
      "0/10000\n",
      "1000/10000\n",
      "2000/10000\n",
      "3000/10000\n",
      "4000/10000\n",
      "5000/10000\n",
      "6000/10000\n",
      "7000/10000\n",
      "8000/10000\n",
      "9000/10000\n",
      "7571/10000 correct (75.710000 %)\n"
     ]
    }
   ],
   "source": [
    "num_correct = 0\n",
    "for s in range(testing_images.shape[0]):\n",
    "    # Show progress\n",
    "    if (s % 1000) == 0:\n",
    "        print(\"%u/%u\" % (s, testing_images.shape[0]))\n",
    "        \n",
    "    # Set training image\n",
    "    pn_input.vars[\"magnitude\"].view[:] = testing_images[s] * INPUT_SCALE\n",
    "    pn_input.push_var_to_device(\"magnitude\")\n",
    "    \n",
    "    # Simulate present timesteps\n",
    "    for i in range(present_timesteps):\n",
    "        model.step_time()\n",
    "    \n",
    "    # Reset neuron state for next stimuli\n",
    "    reset_neuron(pn, lif_init)\n",
    "    reset_neuron(kc, lif_init)\n",
    "    reset_neuron(ggn, if_init)\n",
    "    reset_neuron(mbon, lif_init)\n",
    "\n",
    "    # Reset synapse state\n",
    "    reset_in_syn(pn_kc)\n",
    "    reset_in_syn(ggn_kc)\n",
    "    reset_in_syn(kc_mbon)\n",
    "    \n",
    "    # Download spikes from GPU\n",
    "    model.pull_recording_buffers_from_device();\n",
    "    \n",
    "    # Determine the classification and count correct \n",
    "    mbon_spike_times, mbon_spike_ids = mbon.spike_recording_data\n",
    "    if len(mbon_spike_times) > 0:\n",
    "        if mbon_spike_ids[np.argmin(mbon_spike_times)] == testing_labels[s]:\n",
    "            num_correct += 1\n",
    "\n",
    "print(\"%u/%u correct (%f %%)\" % (num_correct, testing_images.shape[0], (num_correct * 100.0) / testing_images.shape[0]))"
   ]
  }
 ],
 "metadata": {
  "kernelspec": {
   "display_name": "Python 3",
   "language": "python",
   "name": "python3"
  },
  "language_info": {
   "codemirror_mode": {
    "name": "ipython",
    "version": 3
   },
   "file_extension": ".py",
   "mimetype": "text/x-python",
   "name": "python",
   "nbconvert_exporter": "python",
   "pygments_lexer": "ipython3",
   "version": "3.6.7"
  }
 },
 "nbformat": 4,
 "nbformat_minor": 4
}
