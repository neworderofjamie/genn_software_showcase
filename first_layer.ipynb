{
 "cells": [
  {
   "cell_type": "code",
   "execution_count": 92,
   "metadata": {},
   "outputs": [],
   "source": [
    "import numpy as np\n",
    "from copy import copy\n",
    "from matplotlib import pyplot as plt\n",
    "from pygenn import genn_model, genn_wrapper"
   ]
  },
  {
   "cell_type": "code",
   "execution_count": 93,
   "metadata": {},
   "outputs": [],
   "source": [
    "# Load MNIST data (pre-normalized and coverted to numpy format)\n",
    "training_images = np.load(\"training_images.npy\")\n",
    "training_labels = np.load(\"training_labels.npy\")\n"
   ]
  },
  {
   "cell_type": "markdown",
   "metadata": {},
   "source": [
    "### Visualize training data"
   ]
  },
  {
   "cell_type": "code",
   "execution_count": 94,
   "metadata": {},
   "outputs": [
    {
     "name": "stdout",
     "output_type": "stream",
     "text": [
      "(60000, 784)\n"
     ]
    },
    {
     "data": {
      "text/plain": [
       "<matplotlib.image.AxesImage at 0x7fc88b4d8e10>"
      ]
     },
     "execution_count": 94,
     "metadata": {},
     "output_type": "execute_result"
    },
    {
     "data": {
      "image/png": "[encoded data removed]",
      "text/plain": [
       "<Figure size 432x288 with 1 Axes>"
      ]
     },
     "metadata": {
      "needs_background": "light"
     },
     "output_type": "display_data"
    }
   ],
   "source": [
    "print(training_images.shape)\n",
    "assert np.allclose(np.sum(training_images, axis=1), 1.0)\n",
    "\n",
    "fig, axis = plt.subplots()\n",
    "axis.imshow(np.reshape(training_images[0], (28, 28)))"
   ]
  },
  {
   "cell_type": "markdown",
   "metadata": {},
   "source": [
    "### Parameters"
   ]
  },
  {
   "cell_type": "code",
   "execution_count": 95,
   "metadata": {},
   "outputs": [],
   "source": [
    "DT = 0.02\n",
    "INPUT_SCALE = 80.0\n",
    "NUM_PN = 784\n",
    "PRESENT_TIME_MS = 20.0\n",
    "\n",
    "# Standard LIF neurons parameters\n",
    "LIF_PARAMS = {\n",
    "    \"C\": 0.2,\n",
    "    \"TauM\": 20.0,\n",
    "    \"Vrest\": -60.0,\n",
    "    \"Vreset\": -60.0,\n",
    "    \"Vthresh\": -50.0,\n",
    "    \"Ioffset\": 0.0,\n",
    "    \"TauRefrac\": 2.0}\n",
    "\n",
    "# We only want PNs to spike once\n",
    "PN_PARAMS = copy(LIF_PARAMS)\n",
    "PN_PARAMS[\"TauRefrac\"] = 100.0\n"
   ]
  },
  {
   "cell_type": "markdown",
   "metadata": {},
   "source": [
    "### Custom models"
   ]
  },
  {
   "cell_type": "code",
   "execution_count": 96,
   "metadata": {},
   "outputs": [],
   "source": [
    "# Current source model, allowing current to be injected into neuron from variable\n",
    "cs_model = genn_model.create_custom_current_source_class(\n",
    "    \"cs_model\",\n",
    "    var_name_types=[(\"magnitude\", \"scalar\")],\n",
    "    injection_code=\"$(injectCurrent, $(magnitude));\")\n",
    "\n",
    "neuron_reset_model = genn_model.create_custom_custom_update_class(\n",
    "    \"neuron_reset\",\n",
    "    param_names=[\"Vreset\"],\n",
    "    var_refs=[(\"V\", \"scalar\"), (\"RefracTime\", \"scalar\")],\n",
    "    update_code=\"\"\"\n",
    "    $(V) = $(Vreset);\n",
    "    $(RefracTime) = 0.0;\n",
    "    \"\"\")"
   ]
  },
  {
   "cell_type": "markdown",
   "metadata": {},
   "source": [
    "### Model definition"
   ]
  },
  {
   "cell_type": "code",
   "execution_count": 97,
   "metadata": {},
   "outputs": [],
   "source": [
    "# Create model\n",
    "model = genn_model.GeNNModel(\"float\", \"mnist_mb\")\n",
    "model.dT = DT\n",
    "model._model.set_seed(1337)\n",
    "\n",
    "# Create neuron populations\n",
    "lif_init = {\"V\": PN_PARAMS[\"Vreset\"], \"RefracTime\": 0.0}\n",
    "pn = model.add_neuron_population(\"pn\", NUM_PN, \"LIF\", PN_PARAMS, lif_init)\n",
    "\n",
    "# Turn on spike recording\n",
    "pn.spike_recording_enabled = True\n",
    "\n",
    "# Create current sources to deliver input to network\n",
    "pn_input = model.add_current_source(\"pn_input\", cs_model, pn , {}, {\"magnitude\": 0.0})\n",
    "\n",
    "# Create custom updates to reset neuron parameter\n",
    "pn_reset = model.add_custom_update(\"pn_reset\", \"ResetNeurons\", neuron_reset_model,\n",
    "                                   {\"Vreset\": PN_PARAMS[\"Vreset\"]}, {}, \n",
    "                                   {\"V\": genn_model.create_var_ref(pn, \"V\"), \n",
    "                                    \"RefracTime\": genn_model.create_var_ref(pn, \"RefracTime\")})\n"
   ]
  },
  {
   "cell_type": "markdown",
   "metadata": {},
   "source": [
    "### Build model"
   ]
  },
  {
   "cell_type": "code",
   "execution_count": 98,
   "metadata": {},
   "outputs": [],
   "source": [
    "# Concert present time into timesteps\n",
    "present_timesteps = int(round(PRESENT_TIME_MS / DT))\n",
    "\n",
    "# Build model and load it\n",
    "model.build()\n",
    "model.load(num_recording_timesteps=present_timesteps)"
   ]
  },
  {
   "cell_type": "markdown",
   "metadata": {},
   "source": [
    "### Simulation"
   ]
  },
  {
   "cell_type": "code",
   "execution_count": 99,
   "metadata": {},
   "outputs": [
    {
     "data": {
      "image/png": "[encoded data removed]",
      "text/plain": [
       "<Figure size 432x288 with 1 Axes>"
      ]
     },
     "metadata": {
      "needs_background": "light"
     },
     "output_type": "display_data"
    },
    {
     "data": {
      "image/png": "[encoded data removed]",
      "text/plain": [
       "<Figure size 432x288 with 1 Axes>"
      ]
     },
     "metadata": {
      "needs_background": "light"
     },
     "output_type": "display_data"
    },
    {
     "data": {
      "image/png": "[encoded data removed]",
      "text/plain": [
       "<Figure size 432x288 with 1 Axes>"
      ]
     },
     "metadata": {
      "needs_background": "light"
     },
     "output_type": "display_data"
    },
    {
     "data": {
      "image/png": "[encoded data removed]",
      "text/plain": [
       "<Figure size 432x288 with 1 Axes>"
      ]
     },
     "metadata": {
      "needs_background": "light"
     },
     "output_type": "display_data"
    }
   ],
   "source": [
    "pn_input_current_view = pn_input.vars[\"magnitude\"].view\n",
    "for i in range(4):\n",
    "    # Set training image\n",
    "    pn_input_current_view[:] = training_images[i] * INPUT_SCALE\n",
    "    pn_input.push_var_to_device(\"magnitude\")\n",
    "\n",
    "    # Simulate timesteps\n",
    "    for i in range(present_timesteps):\n",
    "        model.step_time()\n",
    "\n",
    "    # Run the custom update used to reset neuron state\n",
    "    model.custom_update(\"ResetNeurons\")\n",
    "\n",
    "    # Download spikes from GPI\n",
    "    model.pull_recording_buffers_from_device();\n",
    "\n",
    "    # Plot PN spikes\n",
    "    fig, axis = plt.subplots()\n",
    "    pn_spike_times, pn_spike_ids = pn.spike_recording_data\n",
    "    axis.scatter(pn_spike_times, pn_spike_ids, s=1)\n",
    "    axis.set_xlabel(\"Time [ms]\")\n",
    "    axis.set_ylabel(\"PN\")\n",
    "plt.show()"
   ]
  }
 ],
 "metadata": {
  "kernelspec": {
   "display_name": "Python 3",
   "language": "python",
   "name": "python3"
  },
  "language_info": {
   "codemirror_mode": {
    "name": "ipython",
    "version": 3
   },
   "file_extension": ".py",
   "mimetype": "text/x-python",
   "name": "python",
   "nbconvert_exporter": "python",
   "pygments_lexer": "ipython3",
   "version": "3.6.7"
  }
 },
 "nbformat": 4,
 "nbformat_minor": 4
}
