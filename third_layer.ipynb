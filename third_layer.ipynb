{
 "cells": [
  {
   "cell_type": "code",
   "execution_count": 1,
   "metadata": {},
   "outputs": [],
   "source": [
    "import numpy as np\n",
    "from copy import copy\n",
    "from six import iteritems\n",
    "from matplotlib import pyplot as plt\n",
    "from pygenn import genn_model, genn_wrapper"
   ]
  },
  {
   "cell_type": "code",
   "execution_count": 2,
   "metadata": {},
   "outputs": [],
   "source": [
    "# Load MNIST data (pre-normalized and coverted to numpy format)\n",
    "training_images = np.load(\"training_images.npy\")\n",
    "training_labels = np.load(\"training_labels.npy\")"
   ]
  },
  {
   "cell_type": "markdown",
   "metadata": {},
   "source": [
    "### Visualize training data"
   ]
  },
  {
   "cell_type": "code",
   "execution_count": 3,
   "metadata": {},
   "outputs": [
    {
     "name": "stdout",
     "output_type": "stream",
     "text": [
      "(60000, 784)\n"
     ]
    },
    {
     "data": {
      "text/plain": [
       "<matplotlib.image.AxesImage at 0x7fb3606e9a58>"
      ]
     },
     "execution_count": 3,
     "metadata": {},
     "output_type": "execute_result"
    },
    {
     "data": {
      "image/png": "[encoded data removed]",
      "text/plain": [
       "<Figure size 432x288 with 1 Axes>"
      ]
     },
     "metadata": {
      "needs_background": "light"
     },
     "output_type": "display_data"
    }
   ],
   "source": [
    "print(training_images.shape)\n",
    "assert np.allclose(np.sum(training_images, axis=1), 1.0)\n",
    "\n",
    "fig, axis = plt.subplots()\n",
    "axis.imshow(np.reshape(training_images[0], (28, 28)))"
   ]
  },
  {
   "cell_type": "markdown",
   "metadata": {},
   "source": [
    "### Parameters"
   ]
  },
  {
   "cell_type": "code",
   "execution_count": 4,
   "metadata": {},
   "outputs": [],
   "source": [
    "DT = 0.1\n",
    "INPUT_SCALE = 80.0\n",
    "NUM_PN = 784\n",
    "NUM_MBON = 10\n",
    "NUM_KC = 20000\n",
    "PRESENT_TIME_MS = 20.0\n",
    "\n",
    "# Standard LIF neurons parameters\n",
    "LIF_PARAMS = {\n",
    "    \"C\": 0.2,\n",
    "    \"TauM\": 20.0,\n",
    "    \"Vrest\": -60.0,\n",
    "    \"Vreset\": -60.0,\n",
    "    \"Vthresh\": -50.0,\n",
    "    \"Ioffset\": 0.0,\n",
    "    \"TauRefrac\": 2.0}\n",
    "\n",
    "# We only want PNs to spike once\n",
    "PN_PARAMS = copy(LIF_PARAMS)\n",
    "PN_PARAMS[\"TauRefrac\"] = 100.0\n",
    "\n",
    "# We will use weights of 1.0 for KC->GGN connections and  \n",
    "# want the GGN to inhibit the KCs after 200 spikes\n",
    "GGN_PARAMS = {\n",
    "    \"Vthresh\": 200.0}\n",
    "\n",
    "MBON_STIMULUS_CURRENT = 5.0\n",
    "\n",
    "PN_KC_WEIGHT = 0.2\n",
    "PN_KC_TAU_SYN = 3.0\n",
    "PN_KC_FAN_IN = 20\n",
    "\n",
    "KC_MBON_TAU_SYN = 3.0\n",
    "KC_MBON_PARAMS = {\"tau\": 15.0,\n",
    "                  \"rho\": 0.18,\n",
    "                  \"eta\": 0.00002,\n",
    "                  \"wMin\": 0.0,\n",
    "                  \"wMax\": 0.0233}\n"
   ]
  },
  {
   "cell_type": "markdown",
   "metadata": {},
   "source": [
    "### Custom models"
   ]
  },
  {
   "cell_type": "code",
   "execution_count": 5,
   "metadata": {},
   "outputs": [],
   "source": [
    "# Current source model, allowing current to be injected into neuron from variable\n",
    "cs_model = genn_model.create_custom_current_source_class(\n",
    "    \"cs_model\",\n",
    "    var_name_types=[(\"magnitude\", \"scalar\")],\n",
    "    injection_code=\"$(injectCurrent, $(magnitude));\")\n",
    "\n",
    "# Minimal integrate and fire neuron model\n",
    "if_model = genn_model.create_custom_neuron_class(\n",
    "    \"IF\",\n",
    "    param_names=[\"Vthresh\"],\n",
    "    var_name_types=[(\"V\", \"scalar\")],\n",
    "    sim_code=\n",
    "    \"\"\"\n",
    "    $(V)+= $(Isyn);\n",
    "    \"\"\",\n",
    "    threshold_condition_code=\n",
    "    \"\"\"\n",
    "    $(V) >= $(Vthresh)\n",
    "    \"\"\",\n",
    "    reset_code=\n",
    "    \"\"\"\n",
    "    $(V)= 0.0;\n",
    "    \"\"\")\n",
    "\n",
    "# STDP synapse with additive weight dependence\n",
    "symmetric_stdp = genn_model.create_custom_weight_update_class(\n",
    "    \"symmetric_stdp\",\n",
    "    param_names=[\"tau\", \"rho\", \"eta\", \"wMin\", \"wMax\"],\n",
    "    var_name_types=[(\"g\", \"scalar\")],\n",
    "    sim_code=\n",
    "    \"\"\"\n",
    "    const scalar dt = $(t) - $(sT_post);\n",
    "    const scalar timing = exp(-dt / $(tau)) - $(rho);\n",
    "    const scalar newWeight = $(g) + ($(eta) * timing);\n",
    "    $(g) = fmin($(wMax), fmax($(wMin), newWeight));\n",
    "    \"\"\",\n",
    "    learn_post_code=\n",
    "    \"\"\"\n",
    "    const scalar dt = $(t) - $(sT_pre);\n",
    "    const scalar timing = fmax(exp(-dt / $(tau)) - $(rho), -0.1*$(rho));\n",
    "    const scalar newWeight = $(g) + ($(eta) * timing);\n",
    "    $(g) = fmin($(wMax), fmax($(wMin), newWeight));\n",
    "    \"\"\",\n",
    "    is_pre_spike_time_required=True,\n",
    "    is_post_spike_time_required=True)"
   ]
  },
  {
   "cell_type": "markdown",
   "metadata": {},
   "source": [
    "### Model definition"
   ]
  },
  {
   "cell_type": "code",
   "execution_count": 6,
   "metadata": {},
   "outputs": [],
   "source": [
    "# Create model\n",
    "model = genn_model.GeNNModel(\"float\", \"mnist_mb\")\n",
    "model.dT = DT\n",
    "model._model.set_seed(1337)\n",
    "\n",
    "# Create neuron populations\n",
    "lif_init = {\"V\": PN_PARAMS[\"Vreset\"], \"RefracTime\": 0.0}\n",
    "if_init = {\"V\": 0.0}\n",
    "pn = model.add_neuron_population(\"pn\", NUM_PN, \"LIF\", PN_PARAMS, lif_init)\n",
    "kc = model.add_neuron_population(\"kc\", NUM_KC, \"LIF\", LIF_PARAMS, lif_init)\n",
    "ggn = model.add_neuron_population(\"ggn\", 1, if_model, GGN_PARAMS, if_init)\n",
    "mbon = model.add_neuron_population(\"mbon\", NUM_MBON, \"LIF\", LIF_PARAMS, lif_init)\n",
    "\n",
    "# Turn on spike recording\n",
    "pn.spike_recording_enabled = True\n",
    "kc.spike_recording_enabled = True\n",
    "mbon.spike_recording_enabled = True\n",
    "\n",
    "# Create current sources to deliver input and supervision to network\n",
    "pn_input = model.add_current_source(\"pn_input\", cs_model, pn , {}, {\"magnitude\": 0.0})\n",
    "mbon_input = model.add_current_source(\"mbon_input\", cs_model, mbon , {}, {\"magnitude\": 0.0})\n",
    "\n",
    "# Create synapse populations\n",
    "pn_kc = model.add_synapse_population(\"pn_kc\", \"SPARSE_GLOBALG\", genn_wrapper.NO_DELAY,\n",
    "                                     pn, kc,\n",
    "                                     \"StaticPulse\", {}, {\"g\": PN_KC_WEIGHT}, {}, {},\n",
    "                                     \"ExpCurr\", {\"tau\": PN_KC_TAU_SYN}, {},\n",
    "                                     genn_model.init_connectivity(\"FixedNumberPreWithReplacement\", {\"colLength\": PN_KC_FAN_IN}))\n",
    "\n",
    "kc_ggn = model.add_synapse_population(\"kc_ggn\", \"DENSE_GLOBALG\", genn_wrapper.NO_DELAY, \n",
    "                                      kc, ggn, \n",
    "                                      \"StaticPulse\", {}, {\"g\": 1.0}, {}, {}, \n",
    "                                      \"DeltaCurr\", {}, {})\n",
    "\n",
    "ggn_kc = model.add_synapse_population(\"ggn_kc\", \"DENSE_GLOBALG\", genn_wrapper.NO_DELAY, \n",
    "                                      ggn, kc,\n",
    "                                      \"StaticPulse\", {}, {\"g\": -5.0}, {}, {}, \n",
    "                                      \"ExpCurr\", {\"tau\": 5.0}, {})\n",
    "\n",
    "kc_mbon = model.add_synapse_population(\"kc_mbon\", \"DENSE_INDIVIDUALG\", genn_wrapper.NO_DELAY,\n",
    "                                       kc, mbon,\n",
    "                                       symmetric_stdp, KC_MBON_PARAMS, {\"g\": np.zeros(NUM_KC*NUM_MBON)}, {}, {},\n",
    "                                       \"ExpCurr\", {\"tau\": KC_MBON_TAU_SYN}, {})"
   ]
  },
  {
   "cell_type": "markdown",
   "metadata": {},
   "source": [
    "### Build model"
   ]
  },
  {
   "cell_type": "code",
   "execution_count": 7,
   "metadata": {},
   "outputs": [],
   "source": [
    "# Convert present time into timesteps\n",
    "present_timesteps = int(round(PRESENT_TIME_MS / DT))\n",
    "\n",
    "# Build model and load it\n",
    "model.build()\n",
    "model.load(num_recording_timesteps=present_timesteps)"
   ]
  },
  {
   "cell_type": "markdown",
   "metadata": {},
   "source": [
    "### Simulation"
   ]
  },
  {
   "cell_type": "code",
   "execution_count": 8,
   "metadata": {},
   "outputs": [
    {
     "name": "stdout",
     "output_type": "stream",
     "text": [
      "0/60000\n",
      "1000/60000\n",
      "2000/60000\n",
      "3000/60000\n",
      "4000/60000\n",
      "5000/60000\n",
      "6000/60000\n",
      "7000/60000\n",
      "8000/60000\n",
      "9000/60000\n",
      "10000/60000\n",
      "11000/60000\n",
      "12000/60000\n",
      "13000/60000\n",
      "14000/60000\n",
      "15000/60000\n",
      "16000/60000\n",
      "17000/60000\n",
      "18000/60000\n",
      "19000/60000\n",
      "20000/60000\n",
      "21000/60000\n",
      "22000/60000\n",
      "23000/60000\n",
      "24000/60000\n",
      "25000/60000\n",
      "26000/60000\n",
      "27000/60000\n",
      "28000/60000\n",
      "29000/60000\n",
      "30000/60000\n",
      "31000/60000\n",
      "32000/60000\n",
      "33000/60000\n",
      "34000/60000\n",
      "35000/60000\n",
      "36000/60000\n",
      "37000/60000\n",
      "38000/60000\n",
      "39000/60000\n",
      "40000/60000\n",
      "41000/60000\n",
      "42000/60000\n",
      "43000/60000\n",
      "44000/60000\n",
      "45000/60000\n",
      "46000/60000\n",
      "47000/60000\n",
      "48000/60000\n",
      "49000/60000\n",
      "50000/60000\n",
      "51000/60000\n",
      "52000/60000\n",
      "53000/60000\n",
      "54000/60000\n",
      "55000/60000\n",
      "56000/60000\n",
      "57000/60000\n",
      "58000/60000\n",
      "59000/60000\n"
     ]
    }
   ],
   "source": [
    "def reset_neuron(pop, var_init):\n",
    "    # Reset variables\n",
    "    for var_name, var_val in iteritems(var_init):\n",
    "        pop.vars[var_name].view[:] = var_val\n",
    "    \n",
    "    # Push the state to GPU\n",
    "    pop.push_state_to_device()\n",
    "\n",
    "def reset_in_syn(pop):\n",
    "    pop.in_syn[:] = 0.0\n",
    "    pop.push_in_syn_to_device()\n",
    "\n",
    "def reset_spike_times(pop):\n",
    "    pop.spike_times[:] = -np.finfo(np.float32).max\n",
    "    pop.push_spike_times_to_device()\n",
    "    \n",
    "for s in range(training_images.shape[0]):\n",
    "    # Show progress\n",
    "    if (s % 1000) == 0:\n",
    "        print(\"%u/%u\" % (s, training_images.shape[0]))\n",
    "        \n",
    "    # Set training image\n",
    "    pn_input.vars[\"magnitude\"].view[:] = training_images[s] * INPUT_SCALE\n",
    "    pn_input.push_var_to_device(\"magnitude\")\n",
    "    \n",
    "    # Turn on correct output neuron\n",
    "    mbon_input.vars[\"magnitude\"].view[:] = 0\n",
    "    mbon_input.vars[\"magnitude\"].view[training_labels[s]] = MBON_STIMULUS_CURRENT\n",
    "    mbon_input.push_var_to_device(\"magnitude\")\n",
    "\n",
    "    # Simulate present timesteps\n",
    "    for i in range(present_timesteps):\n",
    "        model.step_time()\n",
    "    \n",
    "    # Reset neuron state for next stimuli\n",
    "    reset_neuron(pn, lif_init)\n",
    "    reset_neuron(kc, lif_init)\n",
    "    reset_neuron(ggn, if_init)\n",
    "    reset_spike_times(kc)\n",
    "    reset_spike_times(mbon)\n",
    "    \n",
    "    # Reset synapse state\n",
    "    reset_in_syn(pn_kc)\n",
    "    reset_in_syn(ggn_kc)\n",
    "    \n",
    "    "
   ]
  },
  {
   "cell_type": "markdown",
   "metadata": {},
   "source": [
    "### Download weights"
   ]
  },
  {
   "cell_type": "code",
   "execution_count": 9,
   "metadata": {},
   "outputs": [],
   "source": [
    "# Download learnt weights\n",
    "kc_mbon.pull_var_from_device(\"g\")\n",
    "\n",
    "kc_mbon_g_view = kc_mbon.vars[\"g\"].view\n",
    "# Save weights\n",
    "np.save(\"kc_mbon.npy\", kc_mbon_g_view)"
   ]
  },
  {
   "cell_type": "code",
   "execution_count": 10,
   "metadata": {},
   "outputs": [
    {
     "data": {
      "image/png": "[encoded data removed]",
      "text/plain": [
       "<Figure size 432x288 with 1 Axes>"
      ]
     },
     "metadata": {
      "needs_background": "light"
     },
     "output_type": "display_data"
    }
   ],
   "source": [
    "fig, axis = plt.subplots()\n",
    "axis.hist(kc_mbon_g_view, bins=100)\n",
    "plt.show()"
   ]
  },
  {
   "cell_type": "code",
   "execution_count": null,
   "metadata": {},
   "outputs": [],
   "source": []
  }
 ],
 "metadata": {
  "kernelspec": {
   "display_name": "Python 3",
   "language": "python",
   "name": "python3"
  },
  "language_info": {
   "codemirror_mode": {
    "name": "ipython",
    "version": 3
   },
   "file_extension": ".py",
   "mimetype": "text/x-python",
   "name": "python",
   "nbconvert_exporter": "python",
   "pygments_lexer": "ipython3",
   "version": "3.6.7"
  }
 },
 "nbformat": 4,
 "nbformat_minor": 4
}
